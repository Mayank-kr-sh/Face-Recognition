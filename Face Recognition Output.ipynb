{
 "cells": [
  {
   "cell_type": "code",
   "execution_count": 1,
   "id": "576a53f9",
   "metadata": {},
   "outputs": [],
   "source": [
    "import cv2"
   ]
  },
  {
   "cell_type": "code",
   "execution_count": 2,
   "id": "42ee9afc",
   "metadata": {},
   "outputs": [],
   "source": [
    "import numpy as np"
   ]
  },
  {
   "cell_type": "code",
   "execution_count": 3,
   "id": "890ed71d",
   "metadata": {},
   "outputs": [],
   "source": [
    "import os"
   ]
  },
  {
   "cell_type": "markdown",
   "id": "577ad02b",
   "metadata": {},
   "source": [
    "### KNN Alogithm Code\n"
   ]
  },
  {
   "cell_type": "code",
   "execution_count": 4,
   "id": "cc1c6f3c",
   "metadata": {},
   "outputs": [],
   "source": [
    "def distance(v1,v2):\n",
    "    # Eucledian\n",
    "    return np.sqrt(((v1-v2)**2).sum())"
   ]
  },
  {
   "cell_type": "code",
   "execution_count": 5,
   "id": "d62c20dd",
   "metadata": {},
   "outputs": [],
   "source": [
    "def knn(train, test, k=5):\n",
    "    dist=[]\n",
    "    \n",
    "    for i in range(train.shape[0]):\n",
    "        # to get vector and label\n",
    "        ix= train[i,:-1]\n",
    "        iy= train[i,-1]\n",
    "        # compute the distance from test points\n",
    "        d=distance(test,ix)\n",
    "        dist.append([d,iy])\n",
    "        \n",
    "    dk= sorted(dist, key=lambda x: x[0])[:k]\n",
    "        \n",
    "    labels=np.array(dk)[:,-1]\n",
    "        \n",
    "        # get feq of each labels\n",
    "    output= np.unique(labels, return_counts=True)\n",
    "        \n",
    "        # max freq and coresponding labels\n",
    "    index =np.argmax(output[1])\n",
    "    return output[0][index]"
   ]
  },
  {
   "cell_type": "code",
   "execution_count": 6,
   "id": "a705edc2",
   "metadata": {},
   "outputs": [
    {
     "name": "stdout",
     "output_type": "stream",
     "text": [
      "Loaded file mayank.npy\n",
      "(24, 30000)\n",
      "(24, 1)\n",
      "(24, 30001)\n"
     ]
    }
   ],
   "source": [
    "#INIIT Camera\n",
    "cap = cv2.VideoCapture(0)\n",
    "\n",
    "#Face detection file\n",
    "face_cascade= cv2.CascadeClassifier(\"haarcascade_frontalface_alt.xml\")\n",
    "\n",
    "skip=0;\n",
    "dataset_path='./data/'\n",
    "face_data = []\n",
    "label=[]\n",
    "\n",
    "class_id=0 #Labels for the given file\n",
    "names= {}  #Mapping btw id - name\n",
    "\n",
    "\n",
    "\n",
    "# data preparation\n",
    "\n",
    "for fx in os.listdir(dataset_path):  \n",
    "    if fx.endswith('.npy'):\n",
    "        # create a mapping btw class_id and name\n",
    "        names[class_id]= fx[:-4]\n",
    "        print(\"Loaded file \"+fx)\n",
    "        data_item= np.load(dataset_path+fx)\n",
    "        face_data.append(data_item)\n",
    "        \n",
    "        # creat labels for the class\n",
    "        target= class_id*np.ones((data_item.shape[0],))\n",
    "        class_id+=1\n",
    "        label.append(target)\n",
    "        \n",
    "face_dataset= np.concatenate(face_data,axis=0)\n",
    "face_labels= np.concatenate(label,axis=0).reshape((-1,1))\n",
    "\n",
    "print(face_dataset.shape)\n",
    "print(face_labels.shape)\n",
    "\n",
    "\n",
    "trainset= np.concatenate((face_dataset,face_labels),axis=1)\n",
    "print(trainset.shape)\n",
    "\n",
    "\n",
    "# testing\n",
    "\n",
    "while True:\n",
    "    ret,frame= cap.read()\n",
    "    if ret== False:\n",
    "        continue\n",
    "        \n",
    "    faces= face_cascade.detectMultiScale(frame,1.3,5)\n",
    "    if(len(faces)==0):\n",
    "        continue\n",
    "        \n",
    "    for face in faces:\n",
    "        x,y,w,h =face\n",
    "        \n",
    "        offset =10\n",
    "        face_section= frame[y-offset:y+h+offset,x-offset:x+w+offset]\n",
    "        face_section= cv2.resize(face_section,(100,100))\n",
    "        \n",
    "        out= knn(trainset,face_section.flatten())\n",
    "        \n",
    "        # display on the screen the name and rectangle around it\n",
    "        pred_name= names[int(out)]\n",
    "        cv2.putText(frame,pred_name,(x,y-10),cv2.FONT_HERSHEY_SIMPLEX,1,(255,0,0),2,cv2.LINE_AA)\n",
    "        cv2.rectangle(frame,(x,y),(x+w,y+h),(0,255,255),2)\n",
    "        \n",
    "    cv2.imshow(\"Faces\",frame)\n",
    "        \n",
    "    key=cv2.waitKey(1) & 0xFF\n",
    "    if key==ord('q'):\n",
    "        break\n",
    "\n",
    "            \n",
    "cap.release()\n",
    "cv2.destroyAllWindows()"
   ]
  }
 ],
 "metadata": {
  "kernelspec": {
   "display_name": "Python 3 (ipykernel)",
   "language": "python",
   "name": "python3"
  },
  "language_info": {
   "codemirror_mode": {
    "name": "ipython",
    "version": 3
   },
   "file_extension": ".py",
   "mimetype": "text/x-python",
   "name": "python",
   "nbconvert_exporter": "python",
   "pygments_lexer": "ipython3",
   "version": "3.11.3"
  }
 },
 "nbformat": 4,
 "nbformat_minor": 5
}
